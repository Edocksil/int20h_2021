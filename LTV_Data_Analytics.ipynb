{
  "nbformat": 4,
  "nbformat_minor": 0,
  "metadata": {
    "colab": {
      "name": "LTV_Data_Analytics.ipynb",
      "provenance": [],
      "collapsed_sections": []
    },
    "kernelspec": {
      "name": "python3",
      "display_name": "Python 3"
    }
  },
  "cells": [
    {
      "cell_type": "code",
      "metadata": {
        "colab": {
          "base_uri": "https://localhost:8080/"
        },
        "id": "yvSHovfj88tw",
        "outputId": "0a9b64a3-a870-45f1-f2c0-ef2c02e7e909"
      },
      "source": [
        "from google.colab import drive\n",
        "drive.mount('/gdrive')\n",
        "%cd /gdrive"
      ],
      "execution_count": 274,
      "outputs": [
        {
          "output_type": "stream",
          "text": [
            "Mounted at /gdrive\n",
            "/gdrive\n"
          ],
          "name": "stdout"
        }
      ]
    },
    {
      "cell_type": "code",
      "metadata": {
        "id": "8F6IkJV9AxXJ"
      },
      "source": [
        "import csv\r\n",
        "import pandas as pd\r\n",
        "import numpy as np"
      ],
      "execution_count": 294,
      "outputs": []
    },
    {
      "cell_type": "code",
      "metadata": {
        "id": "LDTOfI7cBnZc"
      },
      "source": [
        "#зчитування напряму\r\n",
        "pathToData = '/gdrive/MyDrive/int20h_hackatone/data_analytics.csv'\r\n",
        "with open(pathToData, newline='') as f:\r\n",
        "    reader = csv.DictReader(f)\r\n",
        "\r\n",
        "#зчитування як DataFrame\r\n",
        "records = pd.read_csv(pathToData, delimiter=',')\r\n",
        "records;"
      ],
      "execution_count": 295,
      "outputs": []
    },
    {
      "cell_type": "code",
      "metadata": {
        "colab": {
          "base_uri": "https://localhost:8080/",
          "height": 434
        },
        "id": "0qkCeSZm1df8",
        "outputId": "46014194-0c28-4968-a875-72d7aea4fe36"
      },
      "source": [
        "#test - кількість місяців підписки включно з тріалом\r\n",
        "records.groupby('Subscriber ID').count()[['Event Date']]"
      ],
      "execution_count": 296,
      "outputs": [
        {
          "output_type": "execute_result",
          "data": {
            "text/html": [
              "<div>\n",
              "<style scoped>\n",
              "    .dataframe tbody tr th:only-of-type {\n",
              "        vertical-align: middle;\n",
              "    }\n",
              "\n",
              "    .dataframe tbody tr th {\n",
              "        vertical-align: top;\n",
              "    }\n",
              "\n",
              "    .dataframe thead th {\n",
              "        text-align: right;\n",
              "    }\n",
              "</style>\n",
              "<table border=\"1\" class=\"dataframe\">\n",
              "  <thead>\n",
              "    <tr style=\"text-align: right;\">\n",
              "      <th></th>\n",
              "      <th>Event Date</th>\n",
              "    </tr>\n",
              "    <tr>\n",
              "      <th>Subscriber ID</th>\n",
              "      <th></th>\n",
              "    </tr>\n",
              "  </thead>\n",
              "  <tbody>\n",
              "    <tr>\n",
              "      <th>223411322456765433</th>\n",
              "      <td>6</td>\n",
              "    </tr>\n",
              "    <tr>\n",
              "      <th>223411322456765434</th>\n",
              "      <td>6</td>\n",
              "    </tr>\n",
              "    <tr>\n",
              "      <th>223411322456765435</th>\n",
              "      <td>6</td>\n",
              "    </tr>\n",
              "    <tr>\n",
              "      <th>223411322456765437</th>\n",
              "      <td>6</td>\n",
              "    </tr>\n",
              "    <tr>\n",
              "      <th>223411322456765438</th>\n",
              "      <td>6</td>\n",
              "    </tr>\n",
              "    <tr>\n",
              "      <th>...</th>\n",
              "      <td>...</td>\n",
              "    </tr>\n",
              "    <tr>\n",
              "      <th>223411322456766800</th>\n",
              "      <td>1</td>\n",
              "    </tr>\n",
              "    <tr>\n",
              "      <th>223411322456766801</th>\n",
              "      <td>1</td>\n",
              "    </tr>\n",
              "    <tr>\n",
              "      <th>223411322456766802</th>\n",
              "      <td>1</td>\n",
              "    </tr>\n",
              "    <tr>\n",
              "      <th>223411322456766805</th>\n",
              "      <td>1</td>\n",
              "    </tr>\n",
              "    <tr>\n",
              "      <th>223411322456766808</th>\n",
              "      <td>1</td>\n",
              "    </tr>\n",
              "  </tbody>\n",
              "</table>\n",
              "<p>1019 rows × 1 columns</p>\n",
              "</div>"
            ],
            "text/plain": [
              "                    Event Date\n",
              "Subscriber ID                 \n",
              "223411322456765433           6\n",
              "223411322456765434           6\n",
              "223411322456765435           6\n",
              "223411322456765437           6\n",
              "223411322456765438           6\n",
              "...                        ...\n",
              "223411322456766800           1\n",
              "223411322456766801           1\n",
              "223411322456766802           1\n",
              "223411322456766805           1\n",
              "223411322456766808           1\n",
              "\n",
              "[1019 rows x 1 columns]"
            ]
          },
          "metadata": {
            "tags": []
          },
          "execution_count": 296
        }
      ]
    },
    {
      "cell_type": "code",
      "metadata": {
        "colab": {
          "base_uri": "https://localhost:8080/"
        },
        "id": "s9eZlP_Vy8No",
        "outputId": "a1766b85-c807-4501-8cfe-00738b084a26"
      },
      "source": [
        "#test - кількість місяців підписки включно з тріалом - конкретний юзер\r\n",
        "subCount = records['Subscriber ID'].value_counts()\r\n",
        "subCount[223411322456765437]"
      ],
      "execution_count": 297,
      "outputs": [
        {
          "output_type": "execute_result",
          "data": {
            "text/plain": [
              "6"
            ]
          },
          "metadata": {
            "tags": []
          },
          "execution_count": 297
        }
      ]
    },
    {
      "cell_type": "code",
      "metadata": {
        "colab": {
          "base_uri": "https://localhost:8080/",
          "height": 147
        },
        "id": "huHXyXbYdoWD",
        "outputId": "7542c485-b52c-4b96-9920-e64a9d74ef54"
      },
      "source": [
        "#тест\r\n",
        "records[(records['Subscription Offer Type'] == 'Free Trial') & (records['Subscriber ID'] == 223411322456766566)]"
      ],
      "execution_count": 298,
      "outputs": [
        {
          "output_type": "execute_result",
          "data": {
            "text/html": [
              "<div>\n",
              "<style scoped>\n",
              "    .dataframe tbody tr th:only-of-type {\n",
              "        vertical-align: middle;\n",
              "    }\n",
              "\n",
              "    .dataframe tbody tr th {\n",
              "        vertical-align: top;\n",
              "    }\n",
              "\n",
              "    .dataframe thead th {\n",
              "        text-align: right;\n",
              "    }\n",
              "</style>\n",
              "<table border=\"1\" class=\"dataframe\">\n",
              "  <thead>\n",
              "    <tr style=\"text-align: right;\">\n",
              "      <th></th>\n",
              "      <th>Event Date</th>\n",
              "      <th>App Apple ID</th>\n",
              "      <th>Subscription Name</th>\n",
              "      <th>Standard Subscription Duration</th>\n",
              "      <th>Promotional Offer Name</th>\n",
              "      <th>Promotional Offer ID</th>\n",
              "      <th>Subscription Offer Type</th>\n",
              "      <th>Subscription Offer Duration</th>\n",
              "      <th>Marketing Opt-In Duration</th>\n",
              "      <th>Customer Currency</th>\n",
              "      <th>Proceeds Currency</th>\n",
              "      <th>Device</th>\n",
              "      <th>Country</th>\n",
              "      <th>Subscriber ID</th>\n",
              "      <th>Subscriber ID Reset</th>\n",
              "      <th>Refund</th>\n",
              "      <th>Purchase Date</th>\n",
              "      <th>Units</th>\n",
              "    </tr>\n",
              "  </thead>\n",
              "  <tbody>\n",
              "    <tr>\n",
              "      <th>833</th>\n",
              "      <td>2019-07-20</td>\n",
              "      <td>1</td>\n",
              "      <td>weekly 9.99 + 7D trial</td>\n",
              "      <td>7 Days</td>\n",
              "      <td>NaN</td>\n",
              "      <td>NaN</td>\n",
              "      <td>Free Trial</td>\n",
              "      <td>7 Days</td>\n",
              "      <td>NaN</td>\n",
              "      <td>MYR</td>\n",
              "      <td>MYR</td>\n",
              "      <td>iPhone</td>\n",
              "      <td>MY</td>\n",
              "      <td>223411322456766566</td>\n",
              "      <td>NaN</td>\n",
              "      <td>NaN</td>\n",
              "      <td>NaN</td>\n",
              "      <td>1</td>\n",
              "    </tr>\n",
              "  </tbody>\n",
              "</table>\n",
              "</div>"
            ],
            "text/plain": [
              "     Event Date  App Apple ID  ... Purchase Date Units\n",
              "833  2019-07-20             1  ...           NaN     1\n",
              "\n",
              "[1 rows x 18 columns]"
            ]
          },
          "metadata": {
            "tags": []
          },
          "execution_count": 298
        }
      ]
    },
    {
      "cell_type": "code",
      "metadata": {
        "colab": {
          "base_uri": "https://localhost:8080/",
          "height": 333
        },
        "id": "HveHsQnHhwtV",
        "outputId": "5d3c6312-c554-49bb-efec-09f71a9a3b0b"
      },
      "source": [
        "#тест\r\n",
        "freeTrial = records['Subscription Offer Type'].isnull()\r\n",
        "subId = records['Subscriber ID'] == 223411322456766566\r\n",
        "records[freeTrial & subId]"
      ],
      "execution_count": 299,
      "outputs": [
        {
          "output_type": "execute_result",
          "data": {
            "text/html": [
              "<div>\n",
              "<style scoped>\n",
              "    .dataframe tbody tr th:only-of-type {\n",
              "        vertical-align: middle;\n",
              "    }\n",
              "\n",
              "    .dataframe tbody tr th {\n",
              "        vertical-align: top;\n",
              "    }\n",
              "\n",
              "    .dataframe thead th {\n",
              "        text-align: right;\n",
              "    }\n",
              "</style>\n",
              "<table border=\"1\" class=\"dataframe\">\n",
              "  <thead>\n",
              "    <tr style=\"text-align: right;\">\n",
              "      <th></th>\n",
              "      <th>Event Date</th>\n",
              "      <th>App Apple ID</th>\n",
              "      <th>Subscription Name</th>\n",
              "      <th>Standard Subscription Duration</th>\n",
              "      <th>Promotional Offer Name</th>\n",
              "      <th>Promotional Offer ID</th>\n",
              "      <th>Subscription Offer Type</th>\n",
              "      <th>Subscription Offer Duration</th>\n",
              "      <th>Marketing Opt-In Duration</th>\n",
              "      <th>Customer Currency</th>\n",
              "      <th>Proceeds Currency</th>\n",
              "      <th>Device</th>\n",
              "      <th>Country</th>\n",
              "      <th>Subscriber ID</th>\n",
              "      <th>Subscriber ID Reset</th>\n",
              "      <th>Refund</th>\n",
              "      <th>Purchase Date</th>\n",
              "      <th>Units</th>\n",
              "    </tr>\n",
              "  </thead>\n",
              "  <tbody>\n",
              "    <tr>\n",
              "      <th>1391</th>\n",
              "      <td>2019-07-27</td>\n",
              "      <td>1</td>\n",
              "      <td>weekly 9.99 + 7D trial</td>\n",
              "      <td>7 Days</td>\n",
              "      <td>NaN</td>\n",
              "      <td>NaN</td>\n",
              "      <td>NaN</td>\n",
              "      <td>NaN</td>\n",
              "      <td>NaN</td>\n",
              "      <td>MYR</td>\n",
              "      <td>MYR</td>\n",
              "      <td>iPhone</td>\n",
              "      <td>MY</td>\n",
              "      <td>223411322456766566</td>\n",
              "      <td>NaN</td>\n",
              "      <td>NaN</td>\n",
              "      <td>NaN</td>\n",
              "      <td>1</td>\n",
              "    </tr>\n",
              "    <tr>\n",
              "      <th>1769</th>\n",
              "      <td>2019-08-03</td>\n",
              "      <td>1</td>\n",
              "      <td>weekly 9.99 + 7D trial</td>\n",
              "      <td>7 Days</td>\n",
              "      <td>NaN</td>\n",
              "      <td>NaN</td>\n",
              "      <td>NaN</td>\n",
              "      <td>NaN</td>\n",
              "      <td>NaN</td>\n",
              "      <td>MYR</td>\n",
              "      <td>MYR</td>\n",
              "      <td>iPhone</td>\n",
              "      <td>MY</td>\n",
              "      <td>223411322456766566</td>\n",
              "      <td>NaN</td>\n",
              "      <td>NaN</td>\n",
              "      <td>NaN</td>\n",
              "      <td>1</td>\n",
              "    </tr>\n",
              "    <tr>\n",
              "      <th>2059</th>\n",
              "      <td>2019-08-10</td>\n",
              "      <td>1</td>\n",
              "      <td>weekly 9.99 + 7D trial</td>\n",
              "      <td>7 Days</td>\n",
              "      <td>NaN</td>\n",
              "      <td>NaN</td>\n",
              "      <td>NaN</td>\n",
              "      <td>NaN</td>\n",
              "      <td>NaN</td>\n",
              "      <td>MYR</td>\n",
              "      <td>MYR</td>\n",
              "      <td>iPhone</td>\n",
              "      <td>MY</td>\n",
              "      <td>223411322456766566</td>\n",
              "      <td>NaN</td>\n",
              "      <td>NaN</td>\n",
              "      <td>NaN</td>\n",
              "      <td>1</td>\n",
              "    </tr>\n",
              "    <tr>\n",
              "      <th>2258</th>\n",
              "      <td>2019-08-17</td>\n",
              "      <td>1</td>\n",
              "      <td>weekly 9.99 + 7D trial</td>\n",
              "      <td>7 Days</td>\n",
              "      <td>NaN</td>\n",
              "      <td>NaN</td>\n",
              "      <td>NaN</td>\n",
              "      <td>NaN</td>\n",
              "      <td>NaN</td>\n",
              "      <td>MYR</td>\n",
              "      <td>MYR</td>\n",
              "      <td>iPhone</td>\n",
              "      <td>MY</td>\n",
              "      <td>223411322456766566</td>\n",
              "      <td>NaN</td>\n",
              "      <td>NaN</td>\n",
              "      <td>NaN</td>\n",
              "      <td>1</td>\n",
              "    </tr>\n",
              "    <tr>\n",
              "      <th>2375</th>\n",
              "      <td>2019-08-24</td>\n",
              "      <td>1</td>\n",
              "      <td>weekly 9.99 + 7D trial</td>\n",
              "      <td>7 Days</td>\n",
              "      <td>NaN</td>\n",
              "      <td>NaN</td>\n",
              "      <td>NaN</td>\n",
              "      <td>NaN</td>\n",
              "      <td>NaN</td>\n",
              "      <td>MYR</td>\n",
              "      <td>MYR</td>\n",
              "      <td>iPhone</td>\n",
              "      <td>MY</td>\n",
              "      <td>223411322456766566</td>\n",
              "      <td>NaN</td>\n",
              "      <td>NaN</td>\n",
              "      <td>NaN</td>\n",
              "      <td>1</td>\n",
              "    </tr>\n",
              "  </tbody>\n",
              "</table>\n",
              "</div>"
            ],
            "text/plain": [
              "      Event Date  App Apple ID  ... Purchase Date Units\n",
              "1391  2019-07-27             1  ...           NaN     1\n",
              "1769  2019-08-03             1  ...           NaN     1\n",
              "2059  2019-08-10             1  ...           NaN     1\n",
              "2258  2019-08-17             1  ...           NaN     1\n",
              "2375  2019-08-24             1  ...           NaN     1\n",
              "\n",
              "[5 rows x 18 columns]"
            ]
          },
          "metadata": {
            "tags": []
          },
          "execution_count": 299
        }
      ]
    },
    {
      "cell_type": "code",
      "metadata": {
        "id": "3MxuW6j9jYNH"
      },
      "source": [
        "#test\r\n",
        "#підписки по датах, згруповані по юзеру\r\n",
        "#freeTrial = records['Subscription Offer Type'].isnull()\r\n",
        "for record in records['Subscriber ID'].unique():\r\n",
        "  subId = records['Subscriber ID'] == record\r\n",
        "  print(records[subId][['Event Date', 'Subscription Offer Type', 'Subscriber ID']])\r\n",
        "  #print(records[freeTrial & subId][['Event Date', 'Subscription Offer Type', 'Subscriber ID']])"
      ],
      "execution_count": null,
      "outputs": []
    },
    {
      "cell_type": "code",
      "metadata": {
        "colab": {
          "base_uri": "https://localhost:8080/"
        },
        "id": "BFLqzPrnEZ2Y",
        "outputId": "afeeccff-e89a-48bf-a9f9-9071d6dbbf8d"
      },
      "source": [
        "#унікальні ід - кількість юзерів унікальних\r\n",
        "uniqueUsersCount = len(records['Subscriber ID'].unique())\r\n",
        "print(records['Subscriber ID'].unique()) \r\n",
        "uniqueUsersCount"
      ],
      "execution_count": 301,
      "outputs": [
        {
          "output_type": "stream",
          "text": [
            "[223411322456765433 223411322456765434 223411322456765435 ...\n",
            " 223411322456766802 223411322456766805 223411322456766808]\n"
          ],
          "name": "stdout"
        },
        {
          "output_type": "execute_result",
          "data": {
            "text/plain": [
              "1019"
            ]
          },
          "metadata": {
            "tags": []
          },
          "execution_count": 301
        }
      ]
    },
    {
      "cell_type": "code",
      "metadata": {
        "id": "B92l1drg0M1p"
      },
      "source": [
        "#юзери, які продовжили підписку\r\n",
        "subCount = records['Subscriber ID'].value_counts()\r\n",
        "for sub in records['Subscriber ID'].unique():\r\n",
        "  if(subCount[sub] > 1):\r\n",
        "    print(sub, subCount[sub])"
      ],
      "execution_count": null,
      "outputs": []
    },
    {
      "cell_type": "code",
      "metadata": {
        "colab": {
          "base_uri": "https://localhost:8080/"
        },
        "id": "RJZBhCpZGBEj",
        "outputId": "ab5da70f-2381-491b-df56-11790240fb99"
      },
      "source": [
        "#юзери, які не оформили підписку, після тріалу\r\n",
        "trialUsersCount = 0\r\n",
        "subCount = records['Subscriber ID'].value_counts()\r\n",
        "for sub in records['Subscriber ID'].unique():\r\n",
        "  if(subCount[sub] == 1):\r\n",
        "    trialUsersCount += 1\r\n",
        "print(trialUsersCount)"
      ],
      "execution_count": 303,
      "outputs": [
        {
          "output_type": "stream",
          "text": [
            "520\n"
          ],
          "name": "stdout"
        }
      ]
    },
    {
      "cell_type": "code",
      "metadata": {
        "colab": {
          "base_uri": "https://localhost:8080/",
          "height": 77
        },
        "id": "E4pUXECRfOyq",
        "outputId": "066682f5-b854-43e8-d7a4-6d1a097dc95d"
      },
      "source": [
        "#юзери по кількості тижнів підписки\r\n",
        "subsPerWeek = { \r\n",
        "  '1 weeks': 0, \r\n",
        "  '2 weeks': 0, \r\n",
        "  '3 weeks': 0, \r\n",
        "  '4 weeks': 0,\r\n",
        "  '5 weeks': 0,\r\n",
        "  '6 weeks': 0,\r\n",
        "  }\r\n",
        "\r\n",
        "weekCount = 0\r\n",
        "weekSubCount = records['Subscriber ID'].value_counts()\r\n",
        "for sub in records['Subscriber ID'].unique():\r\n",
        "  week = weekSubCount[sub]\r\n",
        "  weekName = '{} weeks'.format(week)\r\n",
        "  subsPerWeek[weekName] += 1\r\n",
        "\r\n",
        "#if you want to rename key\r\n",
        "#newKey ='1 week (trial only)'\r\n",
        "#subsPerWeek[newKey] = subsPerWeek.pop('1 weeks')\r\n",
        "\r\n",
        "subsPerWeekDF = pd.DataFrame(subsPerWeek, index=[0]) \r\n",
        "subsPerWeekDF"
      ],
      "execution_count": 304,
      "outputs": [
        {
          "output_type": "execute_result",
          "data": {
            "text/html": [
              "<div>\n",
              "<style scoped>\n",
              "    .dataframe tbody tr th:only-of-type {\n",
              "        vertical-align: middle;\n",
              "    }\n",
              "\n",
              "    .dataframe tbody tr th {\n",
              "        vertical-align: top;\n",
              "    }\n",
              "\n",
              "    .dataframe thead th {\n",
              "        text-align: right;\n",
              "    }\n",
              "</style>\n",
              "<table border=\"1\" class=\"dataframe\">\n",
              "  <thead>\n",
              "    <tr style=\"text-align: right;\">\n",
              "      <th></th>\n",
              "      <th>1 weeks</th>\n",
              "      <th>2 weeks</th>\n",
              "      <th>3 weeks</th>\n",
              "      <th>4 weeks</th>\n",
              "      <th>5 weeks</th>\n",
              "      <th>6 weeks</th>\n",
              "    </tr>\n",
              "  </thead>\n",
              "  <tbody>\n",
              "    <tr>\n",
              "      <th>0</th>\n",
              "      <td>520</td>\n",
              "      <td>146</td>\n",
              "      <td>91</td>\n",
              "      <td>107</td>\n",
              "      <td>63</td>\n",
              "      <td>92</td>\n",
              "    </tr>\n",
              "  </tbody>\n",
              "</table>\n",
              "</div>"
            ],
            "text/plain": [
              "   1 weeks  2 weeks  3 weeks  4 weeks  5 weeks  6 weeks\n",
              "0      520      146       91      107       63       92"
            ]
          },
          "metadata": {
            "tags": []
          },
          "execution_count": 304
        }
      ]
    },
    {
      "cell_type": "code",
      "metadata": {
        "colab": {
          "base_uri": "https://localhost:8080/",
          "height": 404
        },
        "id": "kkZnZp8zI5La",
        "outputId": "22e4ca13-8928-4522-8c31-ee901d6ec9ca"
      },
      "source": [
        "#обрахунок LTV\r\n",
        "LTVdict = { \r\n",
        "  'Subscriber ID': [], \r\n",
        "  'SubTime': [], \r\n",
        "  'TotalSpend': [], #total spend by user for all time\r\n",
        "  'LTV': [], #формула з завдання, як я зрозумів\r\n",
        "  'CTV': [], #customer time value = загальний прибуток з юзера / час підписки. (залежить від тримвалості підписки). 0, якщо юзер не оформив платну підписку\r\n",
        "  }\r\n",
        "\r\n",
        "subscriptionPrice = 9.99\r\n",
        "#store takes 30%\r\n",
        "margin = 0.7\r\n",
        "devProceeds = subscriptionPrice * margin\r\n",
        "\r\n",
        "#юзери, які продовжили підписку\r\n",
        "subCount = records['Subscriber ID'].value_counts()\r\n",
        "for sub in records['Subscriber ID'].unique():\r\n",
        "  weeks = subCount[sub] #weeks of subsciption\r\n",
        "  totalSpend = devProceeds * (weeks - 1)\r\n",
        "  ltv = 0\r\n",
        "  for week in range(weeks):\r\n",
        "    #їх формула LTV, як я зрозумів\r\n",
        "    ltv += devProceeds * week \r\n",
        "  LTVdict['Subscriber ID'].append(sub)\r\n",
        "  LTVdict['SubTime'].append(weeks)\r\n",
        "  LTVdict['TotalSpend'].append(totalSpend)\r\n",
        "  LTVdict['LTV'].append(ltv)\r\n",
        "  LTVdict['CTV'].append(totalSpend/weeks)\r\n",
        "\r\n",
        "df = pd.DataFrame(LTVdict) \r\n",
        "pathToSaveLTVperUser = '/gdrive/MyDrive/int20h_hackatone/LTV_per_user.csv'\r\n",
        "df.to_csv(pathToSaveLTVperUser, index = False)\r\n",
        "\r\n",
        "df"
      ],
      "execution_count": 305,
      "outputs": [
        {
          "output_type": "execute_result",
          "data": {
            "text/html": [
              "<div>\n",
              "<style scoped>\n",
              "    .dataframe tbody tr th:only-of-type {\n",
              "        vertical-align: middle;\n",
              "    }\n",
              "\n",
              "    .dataframe tbody tr th {\n",
              "        vertical-align: top;\n",
              "    }\n",
              "\n",
              "    .dataframe thead th {\n",
              "        text-align: right;\n",
              "    }\n",
              "</style>\n",
              "<table border=\"1\" class=\"dataframe\">\n",
              "  <thead>\n",
              "    <tr style=\"text-align: right;\">\n",
              "      <th></th>\n",
              "      <th>Subscriber ID</th>\n",
              "      <th>SubTime</th>\n",
              "      <th>TotalSpend</th>\n",
              "      <th>LTV</th>\n",
              "      <th>CTV</th>\n",
              "    </tr>\n",
              "  </thead>\n",
              "  <tbody>\n",
              "    <tr>\n",
              "      <th>0</th>\n",
              "      <td>223411322456765433</td>\n",
              "      <td>6</td>\n",
              "      <td>34.965</td>\n",
              "      <td>104.895</td>\n",
              "      <td>5.8275</td>\n",
              "    </tr>\n",
              "    <tr>\n",
              "      <th>1</th>\n",
              "      <td>223411322456765434</td>\n",
              "      <td>6</td>\n",
              "      <td>34.965</td>\n",
              "      <td>104.895</td>\n",
              "      <td>5.8275</td>\n",
              "    </tr>\n",
              "    <tr>\n",
              "      <th>2</th>\n",
              "      <td>223411322456765435</td>\n",
              "      <td>6</td>\n",
              "      <td>34.965</td>\n",
              "      <td>104.895</td>\n",
              "      <td>5.8275</td>\n",
              "    </tr>\n",
              "    <tr>\n",
              "      <th>3</th>\n",
              "      <td>223411322456765437</td>\n",
              "      <td>6</td>\n",
              "      <td>34.965</td>\n",
              "      <td>104.895</td>\n",
              "      <td>5.8275</td>\n",
              "    </tr>\n",
              "    <tr>\n",
              "      <th>4</th>\n",
              "      <td>223411322456765438</td>\n",
              "      <td>6</td>\n",
              "      <td>34.965</td>\n",
              "      <td>104.895</td>\n",
              "      <td>5.8275</td>\n",
              "    </tr>\n",
              "    <tr>\n",
              "      <th>...</th>\n",
              "      <td>...</td>\n",
              "      <td>...</td>\n",
              "      <td>...</td>\n",
              "      <td>...</td>\n",
              "      <td>...</td>\n",
              "    </tr>\n",
              "    <tr>\n",
              "      <th>1014</th>\n",
              "      <td>223411322456766800</td>\n",
              "      <td>1</td>\n",
              "      <td>0.000</td>\n",
              "      <td>0.000</td>\n",
              "      <td>0.0000</td>\n",
              "    </tr>\n",
              "    <tr>\n",
              "      <th>1015</th>\n",
              "      <td>223411322456766801</td>\n",
              "      <td>1</td>\n",
              "      <td>0.000</td>\n",
              "      <td>0.000</td>\n",
              "      <td>0.0000</td>\n",
              "    </tr>\n",
              "    <tr>\n",
              "      <th>1016</th>\n",
              "      <td>223411322456766802</td>\n",
              "      <td>1</td>\n",
              "      <td>0.000</td>\n",
              "      <td>0.000</td>\n",
              "      <td>0.0000</td>\n",
              "    </tr>\n",
              "    <tr>\n",
              "      <th>1017</th>\n",
              "      <td>223411322456766805</td>\n",
              "      <td>1</td>\n",
              "      <td>0.000</td>\n",
              "      <td>0.000</td>\n",
              "      <td>0.0000</td>\n",
              "    </tr>\n",
              "    <tr>\n",
              "      <th>1018</th>\n",
              "      <td>223411322456766808</td>\n",
              "      <td>1</td>\n",
              "      <td>0.000</td>\n",
              "      <td>0.000</td>\n",
              "      <td>0.0000</td>\n",
              "    </tr>\n",
              "  </tbody>\n",
              "</table>\n",
              "<p>1019 rows × 5 columns</p>\n",
              "</div>"
            ],
            "text/plain": [
              "           Subscriber ID  SubTime  TotalSpend      LTV     CTV\n",
              "0     223411322456765433        6      34.965  104.895  5.8275\n",
              "1     223411322456765434        6      34.965  104.895  5.8275\n",
              "2     223411322456765435        6      34.965  104.895  5.8275\n",
              "3     223411322456765437        6      34.965  104.895  5.8275\n",
              "4     223411322456765438        6      34.965  104.895  5.8275\n",
              "...                  ...      ...         ...      ...     ...\n",
              "1014  223411322456766800        1       0.000    0.000  0.0000\n",
              "1015  223411322456766801        1       0.000    0.000  0.0000\n",
              "1016  223411322456766802        1       0.000    0.000  0.0000\n",
              "1017  223411322456766805        1       0.000    0.000  0.0000\n",
              "1018  223411322456766808        1       0.000    0.000  0.0000\n",
              "\n",
              "[1019 rows x 5 columns]"
            ]
          },
          "metadata": {
            "tags": []
          },
          "execution_count": 305
        }
      ]
    },
    {
      "cell_type": "code",
      "metadata": {
        "colab": {
          "base_uri": "https://localhost:8080/"
        },
        "id": "OIYsAxDsr4hP",
        "outputId": "2a5dc36f-968e-4685-ca4f-77caf6237de0"
      },
      "source": [
        "ChurnTotal = ((subsPerWeek['1 weeks']-subsPerWeek['6 weeks'])/subsPerWeek['1 weeks'])*100\r\n",
        "ChurnPaid = ((subsPerWeek['2 weeks']-subsPerWeek['6 weeks'])/subsPerWeek['2 weeks'])*100\r\n",
        "print('Churn for all weeks:', ChurnTotal)\r\n",
        "print('Churn for paid weeks:', ChurnPaid)\r\n",
        "ALTtotal = 100/ChurnTotal\r\n",
        "ALTpaid = 100/ChurnPaid\r\n",
        "print('Average customer lifespan in months (ALT) all weeks', ALTtotal)\r\n",
        "print('Average customer lifespan in months (ALT) paid weeks', ALTpaid)"
      ],
      "execution_count": 306,
      "outputs": [
        {
          "output_type": "stream",
          "text": [
            "Churn for all weeks: 82.3076923076923\n",
            "Churn for paid weeks: 36.986301369863014\n",
            "Average customer lifespan in months (ALT) all weeks 1.2149532710280373\n",
            "Average customer lifespan in months (ALT) paid weeks 2.7037037037037037\n"
          ],
          "name": "stdout"
        }
      ]
    },
    {
      "cell_type": "code",
      "metadata": {
        "id": "X3q7EjB7xytE"
      },
      "source": [
        "#average number of paid transactions (T) :\r\n",
        "totalWeeks = 6\r\n",
        "paidWeeks = 5 #усього тижнів 6, але перший безкоштовний\r\n",
        "\r\n",
        "Ttotal = len(records[records['Subscription Offer Type'].isnull()]) / totalWeeks #isnull() бо це транзакції підпіски платної\r\n",
        "Tpaid = len(records[records['Subscription Offer Type'].isnull()]) / paidWeeks #isnull() бо це транзакції підпіски платної\r\n",
        "\r\n",
        "#CLV (Customer lifetime value) total\r\n",
        "CLVtotal = (Ttotal * devProceeds * ALTtotal)/uniqueUsersCount\r\n",
        "#CLV (Customer lifetime value) for paid weekstotal\r\n",
        "CLVpaid = (Tpaid * devProceeds * ALTpaid)/(uniqueUsersCount - trialUsersCount)\r\n",
        "\r\n",
        "ARPU = df.TotalSpend.sum()/uniqueUsersCount\r\n",
        "ARPUwithoutTrial = df.TotalSpend.sum()/(uniqueUsersCount - trialUsersCount)\r\n",
        "TotalLTV = ARPU / ALTtotal\r\n",
        "TotalLTVpaid = ARPU / ALTpaid"
      ],
      "execution_count": 307,
      "outputs": []
    },
    {
      "cell_type": "code",
      "metadata": {
        "colab": {
          "base_uri": "https://localhost:8080/",
          "height": 97
        },
        "id": "O11gxXyt14sc",
        "outputId": "278568e7-18d3-4e25-ccd1-7eae6e5babd6"
      },
      "source": [
        "totalValues = { \r\n",
        "    'TotalLTV': TotalLTV, \r\n",
        "    'TotalLTVpaid': TotalLTVpaid, \r\n",
        "    'CLVtotal': CLVtotal, \r\n",
        "    'CLVpaid': CLVpaid, \r\n",
        "    'ARPUtotal': ARPU, \r\n",
        "    'ARPUpaid': ARPUwithoutTrial, \r\n",
        "    'UniqueUsersCount': uniqueUsersCount, \r\n",
        "    'TrialOnlyUsersCount': trialUsersCount, \r\n",
        "    'SubscribersCount(paid)': (uniqueUsersCount-trialUsersCount), \r\n",
        "    'ChurnTotal': ChurnTotal, \r\n",
        "    'ChurnPaid': ChurnPaid,\r\n",
        "    'ALTtotal': ALTtotal,\r\n",
        "    'ALTpaid': ALTpaid,\r\n",
        "  }\r\n",
        "\r\n",
        "totalValuesDF = pd.DataFrame(totalValues, index=[0]) \r\n",
        "pathToSaveTotalLTV = '/gdrive/MyDrive/int20h_hackatone/LTV_total.csv'\r\n",
        "totalValuesDF.to_csv(pathToSaveTotalLTV, index = False)\r\n",
        "\r\n",
        "totalValuesDF"
      ],
      "execution_count": 310,
      "outputs": [
        {
          "output_type": "execute_result",
          "data": {
            "text/html": [
              "<div>\n",
              "<style scoped>\n",
              "    .dataframe tbody tr th:only-of-type {\n",
              "        vertical-align: middle;\n",
              "    }\n",
              "\n",
              "    .dataframe tbody tr th {\n",
              "        vertical-align: top;\n",
              "    }\n",
              "\n",
              "    .dataframe thead th {\n",
              "        text-align: right;\n",
              "    }\n",
              "</style>\n",
              "<table border=\"1\" class=\"dataframe\">\n",
              "  <thead>\n",
              "    <tr style=\"text-align: right;\">\n",
              "      <th></th>\n",
              "      <th>TotalLTV</th>\n",
              "      <th>TotalLTVpaid</th>\n",
              "      <th>CLVtotal</th>\n",
              "      <th>CLVpaid</th>\n",
              "      <th>ARPUtotal</th>\n",
              "      <th>ARPUpaid</th>\n",
              "      <th>UniqueUsersCount</th>\n",
              "      <th>TrialOnlyUsersCount</th>\n",
              "      <th>SubscribersCount(paid)</th>\n",
              "      <th>ChurnTotal</th>\n",
              "      <th>ChurnPaid</th>\n",
              "      <th>ALTtotal</th>\n",
              "      <th>ALTpaid</th>\n",
              "    </tr>\n",
              "  </thead>\n",
              "  <tbody>\n",
              "    <tr>\n",
              "      <th>0</th>\n",
              "      <td>7.687549</td>\n",
              "      <td>3.454525</td>\n",
              "      <td>1.89128</td>\n",
              "      <td>10.313598</td>\n",
              "      <td>9.340013</td>\n",
              "      <td>19.073092</td>\n",
              "      <td>1019</td>\n",
              "      <td>520</td>\n",
              "      <td>499</td>\n",
              "      <td>82.307692</td>\n",
              "      <td>36.986301</td>\n",
              "      <td>1.214953</td>\n",
              "      <td>2.703704</td>\n",
              "    </tr>\n",
              "  </tbody>\n",
              "</table>\n",
              "</div>"
            ],
            "text/plain": [
              "   TotalLTV  TotalLTVpaid  CLVtotal  ...  ChurnPaid  ALTtotal   ALTpaid\n",
              "0  7.687549      3.454525   1.89128  ...  36.986301  1.214953  2.703704\n",
              "\n",
              "[1 rows x 13 columns]"
            ]
          },
          "metadata": {
            "tags": []
          },
          "execution_count": 310
        }
      ]
    },
    {
      "cell_type": "code",
      "metadata": {
        "colab": {
          "base_uri": "https://localhost:8080/"
        },
        "id": "5Uh3fMZzYgmh",
        "outputId": "75814fe4-9c28-4465-8446-0f6eb6f7b00d"
      },
      "source": [
        "#по 2 варіанти розрахунків, бо незрозуміло, як треба враховувати пробний тиждень\r\n",
        "\r\n",
        "print('ARPU for all users:', ARPU)\r\n",
        "print('ARPU without TrialOnly users:', ARPUwithoutTrial)\r\n",
        "print('CLV for all users:', CLVtotal)\r\n",
        "print('CLV without TrialOnly users:', CLVpaid)\r\n",
        "print('Total LTV for all users:', TotalLTV)\r\n",
        "print('Total LTV without TrialOnly users:', TotalLTVpaid)"
      ],
      "execution_count": 311,
      "outputs": [
        {
          "output_type": "stream",
          "text": [
            "ARPU for all users: 9.340012757605495\n",
            "ARPU without TrialOnly users: 19.073092184368733\n",
            "CLV for all users: 1.8912798418827326\n",
            "CLV without TrialOnly users: 10.313597995991984\n",
            "Total LTV for all users: 7.687548962029139\n",
            "Total LTV without TrialOnly users: 3.454525266511621\n"
          ],
          "name": "stdout"
        }
      ]
    }
  ]
}